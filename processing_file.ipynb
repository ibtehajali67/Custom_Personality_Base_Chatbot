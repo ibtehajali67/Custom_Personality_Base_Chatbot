{
 "cells": [
  {
   "cell_type": "code",
   "execution_count": 1,
   "metadata": {},
   "outputs": [],
   "source": [
    "import pandas as pd\n",
    "df=pd.read_csv(\"file3.csv\")"
   ]
  },
  {
   "cell_type": "code",
   "execution_count": 13,
   "metadata": {},
   "outputs": [],
   "source": [
    "df.drop(\"Unnamed: 0\", axis = 1, inplace=True)"
   ]
  },
  {
   "cell_type": "code",
   "execution_count": 2,
   "metadata": {},
   "outputs": [],
   "source": [
    "df.set_index('Intents', inplace=True, drop=True)"
   ]
  },
  {
   "cell_type": "code",
   "execution_count": 3,
   "metadata": {},
   "outputs": [
    {
     "data": {
      "text/html": [
       "<div>\n",
       "<style scoped>\n",
       "    .dataframe tbody tr th:only-of-type {\n",
       "        vertical-align: middle;\n",
       "    }\n",
       "\n",
       "    .dataframe tbody tr th {\n",
       "        vertical-align: top;\n",
       "    }\n",
       "\n",
       "    .dataframe thead th {\n",
       "        text-align: right;\n",
       "    }\n",
       "</style>\n",
       "<table border=\"1\" class=\"dataframe\">\n",
       "  <thead>\n",
       "    <tr style=\"text-align: right;\">\n",
       "      <th></th>\n",
       "      <th>Answers</th>\n",
       "    </tr>\n",
       "    <tr>\n",
       "      <th>Intents</th>\n",
       "      <th></th>\n",
       "    </tr>\n",
       "  </thead>\n",
       "  <tbody>\n",
       "    <tr>\n",
       "      <th>ask_sup</th>\n",
       "      <td>Oh, Just the usual!</td>\n",
       "    </tr>\n",
       "    <tr>\n",
       "      <th>ask_health</th>\n",
       "      <td>Very well, thanks.</td>\n",
       "    </tr>\n",
       "    <tr>\n",
       "      <th>Ask_gender</th>\n",
       "      <td>Yes, I am a pretty girl.</td>\n",
       "    </tr>\n",
       "    <tr>\n",
       "      <th>Ask_born_place</th>\n",
       "      <td>I was born in Japan.</td>\n",
       "    </tr>\n",
       "    <tr>\n",
       "      <th>ask_religion</th>\n",
       "      <td>I am proud that I am an American citizen of Ja...</td>\n",
       "    </tr>\n",
       "    <tr>\n",
       "      <th>...</th>\n",
       "      <td>...</td>\n",
       "    </tr>\n",
       "    <tr>\n",
       "      <th>Ask_walk</th>\n",
       "      <td>Luckily yes! I can walk.</td>\n",
       "    </tr>\n",
       "    <tr>\n",
       "      <th>ask_acne</th>\n",
       "      <td>Unfortunately Yes! whenever I used to eat exce...</td>\n",
       "    </tr>\n",
       "    <tr>\n",
       "      <th>Ask_arms</th>\n",
       "      <td>Yes, I have 2 forelimbs.</td>\n",
       "    </tr>\n",
       "    <tr>\n",
       "      <th>Ask_eyes</th>\n",
       "      <td>Yes, I have very beautiful greenish eyes.</td>\n",
       "    </tr>\n",
       "    <tr>\n",
       "      <th>greet</th>\n",
       "      <td>Hey, Good Evening</td>\n",
       "    </tr>\n",
       "  </tbody>\n",
       "</table>\n",
       "<p>76 rows × 1 columns</p>\n",
       "</div>"
      ],
      "text/plain": [
       "                                                          Answers\n",
       "Intents                                                          \n",
       "ask_sup                                       Oh, Just the usual!\n",
       "ask_health                                     Very well, thanks.\n",
       "Ask_gender                               Yes, I am a pretty girl.\n",
       "Ask_born_place                               I was born in Japan.\n",
       "ask_religion    I am proud that I am an American citizen of Ja...\n",
       "...                                                           ...\n",
       "Ask_walk                                 Luckily yes! I can walk.\n",
       "ask_acne        Unfortunately Yes! whenever I used to eat exce...\n",
       "Ask_arms                                 Yes, I have 2 forelimbs.\n",
       "Ask_eyes               Yes, I have very beautiful greenish eyes. \n",
       "greet                                           Hey, Good Evening\n",
       "\n",
       "[76 rows x 1 columns]"
      ]
     },
     "execution_count": 3,
     "metadata": {},
     "output_type": "execute_result"
    }
   ],
   "source": [
    "df"
   ]
  },
  {
   "cell_type": "code",
   "execution_count": 17,
   "metadata": {},
   "outputs": [
    {
     "name": "stdout",
     "output_type": "stream",
     "text": [
      "['Hey, I am from Japan.']\n"
     ]
    }
   ],
   "source": [
    "if type(df.loc['ask_location'].values[0]) !=str:\n",
    "    print(df.loc['ask_location'].values[0])"
   ]
  },
  {
   "cell_type": "code",
   "execution_count": 3,
   "metadata": {},
   "outputs": [],
   "source": [
    "ff = df['Answers'].values"
   ]
  },
  {
   "cell_type": "code",
   "execution_count": 4,
   "metadata": {},
   "outputs": [
    {
     "data": {
      "text/plain": [
       "'Yes, I am a pretty girl.'"
      ]
     },
     "execution_count": 4,
     "metadata": {},
     "output_type": "execute_result"
    }
   ],
   "source": [
    "ff[2].replace(\"'m\", \" am\")"
   ]
  },
  {
   "cell_type": "code",
   "execution_count": 5,
   "metadata": {},
   "outputs": [
    {
     "data": {
      "text/plain": [
       "Unnamed: 0                        6\n",
       "Intents                ask_location\n",
       "Answers       Hey, I am from Japan.\n",
       "Name: 6, dtype: object"
      ]
     },
     "execution_count": 5,
     "metadata": {},
     "output_type": "execute_result"
    }
   ],
   "source": [
    "df.iloc[6]"
   ]
  },
  {
   "cell_type": "code",
   "execution_count": 6,
   "metadata": {},
   "outputs": [],
   "source": [
    "tt = [i.replace(\"'m\",\" am\" ).replace(\"don't\", \"do not\" ).replace('ím', ' am').replace(\"'s\", \"\") for i in ff]"
   ]
  },
  {
   "cell_type": "code",
   "execution_count": 7,
   "metadata": {},
   "outputs": [
    {
     "data": {
      "text/plain": [
       "['Oh, Just the usual!',\n",
       " 'Very well, thanks.',\n",
       " 'Yes, I am a pretty girl.',\n",
       " 'I was born in Japan.',\n",
       " 'I am proud that I am an American citizen of Japanese ancestry.',\n",
       " 'I am proud that I am an American citizen of Japanese ancestry.',\n",
       " 'Hey, I am from Japan.',\n",
       " 'My mother name is Yuka.',\n",
       " 'My father name is Kazuma.',\n",
       " 'Vincenzo Pellegrino is my grandpa',\n",
       " 'Timmothy Pitzen is my grandma.',\n",
       " 'In total, I have three siblings.',\n",
       " 'Hi there Sora, nice to meet you.',\n",
       " 'Hey I am 18 years old.',\n",
       " 'Hey I blow my candles on 9th of September.',\n",
       " 'I am 5í6.',\n",
       " 'Hey! I am just 46 kg.',\n",
       " 'I can speak and understand multiple languages.',\n",
       " 'Blonde',\n",
       " 'I have greenish eyes. ',\n",
       " 'I am well educated',\n",
       " 'I like to dance more than sports.',\n",
       " 'Yes I do aerobics daily',\n",
       " 'I like pop and sometimes hip hop.',\n",
       " 'Oops I am not married yet. But my aunt son is my most favorite.',\n",
       " 'I am reading a book about anti-gravity  I can not put it down.',\n",
       " 'I love thai food the most.',\n",
       " 'I love to play frisbee. ',\n",
       " 'Pink is my most favourite color.',\n",
       " 'I love to wear cozy dresses.',\n",
       " 'The Godfather: Part II is one of the most acclaimed films of all time and still it is not the highest ranked film in that trilogy. ',\n",
       " 'Not much likeness for vehicles. But I love to ride a bicycle. ',\n",
       " 'Wade Wilson from DeadPool is my favorite one.',\n",
       " 'My favorite country is America. It is known as the land of freedom and the land of opportunity. I love that it is also a multicultural country.',\n",
       " 'Yup, my favorite tales are more than one, but there are plenty of tales to choose from i.e. Little Red Riding Hood is my most favorite. ',\n",
       " 'Yes several times. ',\n",
       " 'I am single.',\n",
       " 'The Dalai Lama',\n",
       " 'Oops I am single.',\n",
       " 'Not at all.',\n",
       " 'Yes! I used to be very good at it when I was young, but I donít know the thing as an acquaintance.',\n",
       " 'Service and Social Responsibility',\n",
       " 'Blackberry Fails to Realize that B2B Involves Actual Humans',\n",
       " 'My biggest flaw is the fear of rejection. Lolxx',\n",
       " 'If you donít build your dream, someone else will hire you to help them build theirs. Dhirubhai Ambani',\n",
       " 'The Millionaire Next Door is my favorite book',\n",
       " 'Parfait is my favorite one',\n",
       " 'I am my own boss',\n",
       " 'Ahhh, loved the question. Yup I am a teenager.',\n",
       " 'Yes! Whenever I go outside on a sunny day. ',\n",
       " 'Yes, I can breathe',\n",
       " 'Yes Ofcourse! I can masticate.',\n",
       " 'Yes, I can burp',\n",
       " 'Oh wow yeah I creeped many times!',\n",
       " 'Umm Yes many times!',\n",
       " 'Yes Dreams can happen at any time during my sleep',\n",
       " 'Yeah I love to eat.',\n",
       " 'Oops, Yeah I can fart.',\n",
       " 'Luckily I love my work. It happens very rarely that I get tired after working.',\n",
       " 'Yeah, I can yawn.',\n",
       " 'Yes, I can pee.',\n",
       " 'Yeah, I can poop.',\n",
       " 'Yes, I can sneeze.',\n",
       " 'Yes, I can sweat.',\n",
       " 'Oops Yes! But in rare cases whenever I am suffering from food poisoning.',\n",
       " 'Yes, I have fair skin color',\n",
       " 'Obviously Yes!',\n",
       " 'Yes I have 2 legs',\n",
       " 'Yes, of course I have.',\n",
       " 'Yes, I sleep 8 hours daily.',\n",
       " 'Yes, I have an abdomen.',\n",
       " 'Luckily yes! I can walk.',\n",
       " 'Unfortunately Yes! whenever I used to eat excessive oily foods.',\n",
       " 'Yes, I have 2 forelimbs.',\n",
       " 'Yes, I have very beautiful greenish eyes. ',\n",
       " 'Hey, Good Evening']"
      ]
     },
     "execution_count": 7,
     "metadata": {},
     "output_type": "execute_result"
    }
   ],
   "source": [
    "tt"
   ]
  },
  {
   "cell_type": "code",
   "execution_count": 8,
   "metadata": {},
   "outputs": [],
   "source": [
    "df[\"Answers\"] = tt"
   ]
  },
  {
   "cell_type": "code",
   "execution_count": 16,
   "metadata": {},
   "outputs": [],
   "source": [
    "df.to_csv(\"file3.csv\")"
   ]
  },
  {
   "cell_type": "code",
   "execution_count": null,
   "metadata": {},
   "outputs": [],
   "source": []
  }
 ],
 "metadata": {
  "kernelspec": {
   "display_name": "Python 3",
   "language": "python",
   "name": "python3"
  },
  "language_info": {
   "codemirror_mode": {
    "name": "ipython",
    "version": 3
   },
   "file_extension": ".py",
   "mimetype": "text/x-python",
   "name": "python",
   "nbconvert_exporter": "python",
   "pygments_lexer": "ipython3",
   "version": "3.8.8"
  }
 },
 "nbformat": 4,
 "nbformat_minor": 4
}
