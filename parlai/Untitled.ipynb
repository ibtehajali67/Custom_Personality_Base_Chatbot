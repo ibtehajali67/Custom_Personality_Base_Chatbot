{
 "cells": [
  {
   "cell_type": "code",
   "execution_count": 1,
   "metadata": {},
   "outputs": [],
   "source": [
    "from parlai.scripts.interactive import setup_args"
   ]
  },
  {
   "cell_type": "code",
   "execution_count": 21,
   "metadata": {},
   "outputs": [],
   "source": [
    "from parlai.core.agents import create_agent\n",
    "from parlai.core.worlds import create_task\n",
    "from typing import Dict, Any\n",
    "from parlai.core.script import ParlaiScript, register_script\n",
    "import parlai.utils.logging as logging"
   ]
  },
  {
   "cell_type": "code",
   "execution_count": 4,
   "metadata": {},
   "outputs": [],
   "source": [
    "import json"
   ]
  },
  {
   "cell_type": "code",
   "execution_count": 20,
   "metadata": {},
   "outputs": [],
   "source": [
    "def _interactive_running():\n",
    "    SHARED={}\n",
    "    reply = {'episode_done': False, 'text': \"hy\"}\n",
    "    SHARED['agent'].observe(reply)\n",
    "    model_res = SHARED['agent'].act()\n",
    "    return model_res\n",
    "def safe_interactive(opt):\n",
    "    if isinstance(opt, ParlaiParser):\n",
    "        logging.error('interactive should be passed opt not Parser')\n",
    "        opt = opt.parse_args()\n",
    "\n",
    "    # Create model and assign it to the specified task\n",
    "    agent = create_agent(opt, requireModelExists=True)\n",
    "    agent.opt.log()\n",
    "    human_agent = SafeLocalHumanAgent(opt)\n",
    "    world = create_task(opt, [human_agent, agent])\n",
    "\n",
    "    # Interact until episode done\n",
    "    while True:\n",
    "        world.parley()\n",
    "        bot_act = world.get_acts()[-1]\n",
    "        if 'bot_offensive' in bot_act and bot_act['bot_offensive']:\n",
    "            agent.reset()\n",
    "        if opt.get('display_examples'):\n",
    "            print('---')\n",
    "            print(world.display())\n",
    "        if world.epoch_done():\n",
    "            logging.info('epoch done')\n",
    "            break\n",
    "if __name__ == '__main__':\n",
    "    random.seed(42)\n",
    "    SafeInteractive.main()"
   ]
  },
  {
   "cell_type": "code",
   "execution_count": 1,
   "metadata": {},
   "outputs": [],
   "source": [
    "import os"
   ]
  },
  {
   "cell_type": "code",
   "execution_count": 5,
   "metadata": {},
   "outputs": [
    {
     "data": {
      "text/plain": [
       "32512"
      ]
     },
     "execution_count": 5,
     "metadata": {},
     "output_type": "execute_result"
    }
   ],
   "source": [
    "os.system(\"!python env/lib/python3.6/site-packages/parlai/scripts/safe_interactive.py -t blended_skill_talk -mf zoo:blender/blender_90M/model\")"
   ]
  },
  {
   "cell_type": "code",
   "execution_count": null,
   "metadata": {},
   "outputs": [],
   "source": []
  }
 ],
 "metadata": {
  "kernelspec": {
   "display_name": "Python 3",
   "language": "python",
   "name": "python3"
  },
  "language_info": {
   "codemirror_mode": {
    "name": "ipython",
    "version": 3
   },
   "file_extension": ".py",
   "mimetype": "text/x-python",
   "name": "python",
   "nbconvert_exporter": "python",
   "pygments_lexer": "ipython3",
   "version": "3.6.9"
  }
 },
 "nbformat": 4,
 "nbformat_minor": 4
}
